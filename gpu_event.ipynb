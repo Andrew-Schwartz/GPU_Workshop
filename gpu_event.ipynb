{
 "cells": [
  {
   "cell_type": "markdown",
   "metadata": {
    "collapsed": false
   },
   "source": [
    "# GPU Programming Workshop\n",
    "### April 19, 2023"
   ]
  },
  {
   "cell_type": "markdown",
   "metadata": {
    "collapsed": false
   },
   "source": [
    "## Simple Example\n",
    "We'll begin with a very simple example: adding two vectors a and b. We'll do it in two ways: first in \"normal\" (ie, cpu) python, then with a gpu."
   ]
  },
  {
   "cell_type": "code",
   "execution_count": 1,
   "metadata": {
    "ExecuteTime": {
     "end_time": "2023-04-19T19:05:34.811450Z",
     "start_time": "2023-04-19T19:05:34.613438Z"
    },
    "collapsed": false
   },
   "outputs": [],
   "source": [
    "# numpy is the python array library\n",
    "import numpy as np\n",
    "# we'll compare how long the cpu/gpu takes\n",
    "import time"
   ]
  },
  {
   "cell_type": "code",
   "execution_count": 2,
   "metadata": {
    "ExecuteTime": {
     "end_time": "2023-04-19T19:05:34.916761Z",
     "start_time": "2023-04-19T19:05:34.797434Z"
    },
    "collapsed": false
   },
   "outputs": [],
   "source": [
    "# create a rng (random number generator)\n",
    "rng = np.random.default_rng()\n",
    "\n",
    "# make two arrays, a and b, that we want to add, with random numbers from 1 to 9\n",
    "n_elements = 10_000_000\n",
    "a = rng.integers(0, 9, n_elements)\n",
    "b = rng.integers(0, 9, n_elements)\n",
    "\n",
    "# c will be the result of a + b\n",
    "c = np.empty(n_elements)"
   ]
  },
  {
   "cell_type": "markdown",
   "metadata": {
    "collapsed": false
   },
   "source": [
    "##### Write code here set c = a + b:"
   ]
  },
  {
   "cell_type": "code",
   "execution_count": 2,
   "metadata": {
    "ExecuteTime": {
     "end_time": "2023-04-19T19:05:45.717707Z",
     "start_time": "2023-04-19T19:05:45.709673Z"
    },
    "collapsed": false
   },
   "outputs": [],
   "source": []
  },
  {
   "cell_type": "markdown",
   "metadata": {
    "collapsed": false
   },
   "source": [
    "### GPU Speedup\n",
    "For 10 million elements, this already takes a few seconds. Let's speed that up with a gpu!"
   ]
  },
  {
   "cell_type": "code",
   "execution_count": 5,
   "metadata": {
    "ExecuteTime": {
     "end_time": "2023-04-19T19:06:04.051641Z",
     "start_time": "2023-04-19T19:06:04.034613Z"
    },
    "collapsed": false
   },
   "outputs": [],
   "source": [
    "# new imports\n",
    "\n",
    "# previous imports\n",
    "import numpy as np\n",
    "import time"
   ]
  },
  {
   "cell_type": "code",
   "execution_count": 6,
   "metadata": {
    "ExecuteTime": {
     "end_time": "2023-04-19T19:06:04.399643Z",
     "start_time": "2023-04-19T19:06:04.398649Z"
    },
    "collapsed": false
   },
   "outputs": [],
   "source": [
    "# reset c\n",
    "c = np.empty(n_elements)"
   ]
  },
  {
   "cell_type": "markdown",
   "metadata": {
    "collapsed": false
   },
   "source": [
    "##### Write gpu code here set c = a + b:"
   ]
  },
  {
   "cell_type": "code",
   "execution_count": 9,
   "metadata": {
    "ExecuteTime": {
     "end_time": "2023-04-19T19:07:29.158392Z",
     "start_time": "2023-04-19T19:07:29.132397Z"
    },
    "collapsed": false
   },
   "outputs": [
    {
     "name": "stdout",
     "output_type": "stream",
     "text": [
      "Took 6.127357482910156e-05 seconds\n",
      "[0. 0. 0. ... 0. 0. 0.]\n"
     ]
    }
   ],
   "source": [
    "# to run code on a gpu, we have to write an entire function to give to the gpu\n",
    "@cuda.jit\n",
    "def add_vectors_gpu():\n",
    "    pass\n",
    "\n",
    "start = time.time()\n",
    "# run the function here\n",
    "\n",
    "elapsed = time.time() - start\n",
    "\n",
    "print(\"Took\", elapsed, \"seconds\")\n",
    "print(c)"
   ]
  },
  {
   "cell_type": "markdown",
   "metadata": {
    "collapsed": false
   },
   "source": [
    "## Calculating π\n",
    "We'll do two versions again, to show the power of the gpu!"
   ]
  },
  {
   "cell_type": "code",
   "execution_count": 10,
   "metadata": {
    "ExecuteTime": {
     "end_time": "2023-04-19T19:07:40.226575Z",
     "start_time": "2023-04-19T19:07:39.731572Z"
    },
    "collapsed": true
   },
   "outputs": [],
   "source": [
    "# new imports\n",
    "\n",
    "# previous imports\n",
    "from numba import cuda\n",
    "import numpy as np\n",
    "import time"
   ]
  },
  {
   "cell_type": "code",
   "execution_count": 47,
   "metadata": {
    "ExecuteTime": {
     "end_time": "2023-04-19T19:03:18.504436Z",
     "start_time": "2023-04-19T19:03:18.409466Z"
    },
    "collapsed": false
   },
   "outputs": [
    {
     "name": "stdout",
     "output_type": "stream",
     "text": [
      "Took 0.04975295066833496 seconds\n",
      "Estimated pi = 3.142394\n"
     ]
    }
   ],
   "source": [
    "# initialize our random number generator\n",
    "\n",
    "# write the function to throw n darts and use that to estimate π\n",
    "def calc_pi():\n",
    "    pass\n",
    "\n",
    "\n",
    "start = time.time()\n",
    "# run your function here:\n",
    "\n",
    "elapsed = time.time() - start\n",
    "\n",
    "print(\"Took\", elapsed, \"seconds\")"
   ]
  },
  {
   "cell_type": "markdown",
   "metadata": {
    "collapsed": false
   },
   "source": [
    "### Now let's calculate π again, with a GPU!"
   ]
  },
  {
   "cell_type": "code",
   "execution_count": 11,
   "metadata": {
    "ExecuteTime": {
     "end_time": "2023-04-19T19:10:03.803120Z",
     "start_time": "2023-04-19T19:10:03.709118Z"
    },
    "collapsed": false
   },
   "outputs": [],
   "source": [
    "# new imports\n",
    "\n",
    "# previous imports\n",
    "import math\n",
    "from numba import cuda\n",
    "import numpy as np\n",
    "import time"
   ]
  },
  {
   "cell_type": "code",
   "execution_count": 13,
   "metadata": {
    "ExecuteTime": {
     "end_time": "2023-04-19T19:13:44.925947Z",
     "start_time": "2023-04-19T19:13:44.924948Z"
    },
    "collapsed": false
   },
   "outputs": [
    {
     "name": "stdout",
     "output_type": "stream",
     "text": [
      "Took 5.626678466796875e-05 seconds\n"
     ]
    }
   ],
   "source": [
    "@cuda.jit\n",
    "def calc_pi_gpu():\n",
    "    pass\n",
    "\n",
    "start = time.time()\n",
    "# run your function here:\n",
    "\n",
    "elapsed = time.time() - start\n",
    "\n",
    "print(\"Took\", elapsed, \"seconds\")"
   ]
  }
 ],
 "metadata": {
  "kernelspec": {
   "display_name": "Python 3",
   "language": "python",
   "name": "python3"
  },
  "language_info": {
   "codemirror_mode": {
    "name": "ipython",
    "version": 2
   },
   "file_extension": ".py",
   "mimetype": "text/x-python",
   "name": "python",
   "nbconvert_exporter": "python",
   "pygments_lexer": "ipython2",
   "version": "2.7.6"
  }
 },
 "nbformat": 4,
 "nbformat_minor": 0
}
