{
 "cells": [
  {
   "cell_type": "markdown",
   "metadata": {},
   "source": [
    "# GPU Programming Workshop\n",
    "### April 19, 2023"
   ]
  },
  {
   "cell_type": "markdown",
   "metadata": {},
   "source": [
    "## Simple Example\n",
    "We'll begin with a very simple example: adding two vectors a and b. We'll do it in two ways: first in \"normal\" (ie, cpu) python, then with a gpu."
   ]
  },
  {
   "cell_type": "code",
   "execution_count": 12,
   "metadata": {
    "ExecuteTime": {
     "end_time": "2023-04-19T18:51:01.324170Z",
     "start_time": "2023-04-19T18:51:01.228169Z"
    }
   },
   "outputs": [],
   "source": [
    "# numpy is the python array library\n",
    "import numpy as np\n",
    "# we'll compare how long the cpu/gpu takes\n",
    "import time"
   ]
  },
  {
   "cell_type": "code",
   "execution_count": 22,
   "metadata": {
    "ExecuteTime": {
     "end_time": "2023-04-19T18:58:43.865171Z",
     "start_time": "2023-04-19T18:58:43.769171Z"
    }
   },
   "outputs": [],
   "source": [
    "# create a rng (random number generator)\n",
    "rng = np.random.default_rng()\n",
    "\n",
    "# make two arrays, a and b, that we want to add, with random numbers from 1 to 9\n",
    "n_elements = 10_000_000\n",
    "a = rng.integers(0, 9, n_elements)\n",
    "b = rng.integers(0, 9, n_elements)\n",
    "\n",
    "# c will be the result of a + b\n",
    "c = np.empty(n_elements)"
   ]
  },
  {
   "cell_type": "markdown",
   "metadata": {},
   "source": [
    "##### Write code here set c = a + b:"
   ]
  },
  {
   "cell_type": "code",
   "execution_count": 23,
   "metadata": {
    "ExecuteTime": {
     "end_time": "2023-04-19T18:58:48.057840Z",
     "start_time": "2023-04-19T18:58:44.928706Z"
    }
   },
   "outputs": [
    {
     "name": "stdout",
     "output_type": "stream",
     "text": [
      "Took 3.1232004165649414 seconds\n",
      "[8. 9. 5. ... 6. 9. 9.]\n"
     ]
    }
   ],
   "source": [
    "start = time.time()\n",
    "for index in range(n_elements):\n",
    "    c[index] = a[index] + b[index]\n",
    "elapsed = time.time() - start\n",
    "\n",
    "print(\"Took\", elapsed, \"seconds\")\n",
    "print(c)\n",
    "assert (c == a + b).all(), \"Addition failed!\""
   ]
  },
  {
   "cell_type": "markdown",
   "metadata": {},
   "source": [
    "### GPU Speedup\n",
    "For 10 million elements, this already takes a few seconds. Let's speed that up with a gpu!"
   ]
  },
  {
   "cell_type": "code",
   "execution_count": 24,
   "metadata": {
    "ExecuteTime": {
     "end_time": "2023-04-19T18:58:48.058840Z",
     "start_time": "2023-04-19T18:58:48.038840Z"
    }
   },
   "outputs": [],
   "source": [
    "# cuda is the gpu library\n",
    "from numba import cuda\n",
    "import math\n",
    "import numpy as np\n",
    "import time"
   ]
  },
  {
   "cell_type": "code",
   "execution_count": 25,
   "metadata": {
    "ExecuteTime": {
     "end_time": "2023-04-19T18:58:48.117840Z",
     "start_time": "2023-04-19T18:58:48.041840Z"
    }
   },
   "outputs": [],
   "source": [
    "# reset c\n",
    "c = np.empty(n_elements)"
   ]
  },
  {
   "cell_type": "markdown",
   "metadata": {},
   "source": [
    "##### Write gpu code here set c = a + b:"
   ]
  },
  {
   "cell_type": "code",
   "execution_count": 26,
   "metadata": {
    "ExecuteTime": {
     "end_time": "2023-04-19T18:58:48.284840Z",
     "start_time": "2023-04-19T18:58:48.127840Z"
    }
   },
   "outputs": [
    {
     "name": "stdout",
     "output_type": "stream",
     "text": [
      "Took 0.16608667373657227 seconds\n",
      "[8. 9. 5. ... 6. 9. 9.]\n"
     ]
    },
    {
     "name": "stderr",
     "output_type": "stream",
     "text": [
      "/home/aschwart/anaconda3/envs/gpu2/lib/python3.10/site-packages/numba/cuda/cudadrv/devicearray.py:885: NumbaPerformanceWarning: Host array used in CUDA kernel will incur copy overhead to/from device.\n",
      "  warn(NumbaPerformanceWarning(msg))\n"
     ]
    }
   ],
   "source": [
    "# to run code on a gpu, we have to write an entire function to give to the gpu\n",
    "@cuda.jit\n",
    "def add_arrays_gpu(a, b, c):\n",
    "    index = cuda.grid(1)\n",
    "    c[index] = a[index] + b[index]\n",
    "\n",
    "threads_per_block = 64\n",
    "# make enough blocks so that each element in a & b can get added\n",
    "blocks = math.ceil(n_elements // threads_per_block)\n",
    "\n",
    "start = time.time()\n",
    "add_arrays_gpu[blocks, threads_per_block](a, b, c)\n",
    "elapsed = time.time() - start\n",
    "\n",
    "print(\"Took\", elapsed, \"seconds\")\n",
    "print(c)"
   ]
  },
  {
   "cell_type": "markdown",
   "metadata": {},
   "source": [
    "## Calculating π\n",
    "We'll do two versions again, to show the power of the gpu!"
   ]
  },
  {
   "cell_type": "code",
   "execution_count": 27,
   "metadata": {
    "ExecuteTime": {
     "end_time": "2023-04-19T18:58:59.633896Z",
     "start_time": "2023-04-19T18:58:59.131669Z"
    },
    "collapsed": true
   },
   "outputs": [],
   "source": [
    "# for the correct value of π\n",
    "import math\n",
    "# see how long the calculation takes\n",
    "import time\n",
    "# array calculation library\n",
    "import numpy as np\n",
    "# create plot!\n",
    "import matplotlib.pyplot as plt"
   ]
  },
  {
   "cell_type": "code",
   "execution_count": 47,
   "metadata": {
    "ExecuteTime": {
     "end_time": "2023-04-19T19:03:18.504436Z",
     "start_time": "2023-04-19T19:03:18.409466Z"
    }
   },
   "outputs": [
    {
     "name": "stdout",
     "output_type": "stream",
     "text": [
      "Took 0.04975295066833496 seconds\n",
      "Estimated pi = 3.142394\n"
     ]
    }
   ],
   "source": [
    "# initialize our random number generator\n",
    "rng = np.random.default_rng()\n",
    "\n",
    "def calc_pi(n_darts, plot=False):\n",
    "    x = rng.uniform(0, 1, n_darts)\n",
    "    y = rng.uniform(0, 1, n_darts)\n",
    "    r = np.sqrt(x ** 2 + y ** 2)\n",
    "    if plot:\n",
    "        plt.scatter(x[r < 1], y[r < 1])\n",
    "        plt.show()\n",
    "    return 4 * np.sum(r < 1) / n_darts\n",
    "\n",
    "num_darts = 2_000_000\n",
    "# num_darts = 20_000_000\n",
    "# num_darts = 200_000_000\n",
    "# num_darts = 2_000_000_000\n",
    "\n",
    "start = time.time()\n",
    "pi_est = calc_pi(num_darts, plot=False)\n",
    "elapsed = time.time() - start\n",
    "\n",
    "print(\"Took\", elapsed, \"seconds\")\n",
    "print(\"Estimated pi =\", pi_est)"
   ]
  },
  {
   "cell_type": "markdown",
   "metadata": {},
   "source": [
    "### Now let's calculate π again, with a GPU!"
   ]
  },
  {
   "cell_type": "code",
   "execution_count": 37,
   "metadata": {
    "ExecuteTime": {
     "end_time": "2023-04-19T19:01:39.482247Z",
     "start_time": "2023-04-19T19:01:39.482247Z"
    }
   },
   "outputs": [],
   "source": [
    "# random number functions\n",
    "from numba.cuda.random import create_xoroshiro128p_states, xoroshiro128p_uniform_float32\n",
    "import math\n",
    "from numba import cuda\n",
    "import time\n",
    "# import matplotlib.pyplot as plt"
   ]
  },
  {
   "cell_type": "code",
   "execution_count": 49,
   "metadata": {
    "ExecuteTime": {
     "end_time": "2023-04-19T19:04:04.694928Z",
     "start_time": "2023-04-19T19:04:04.582908Z"
    }
   },
   "outputs": [
    {
     "name": "stdout",
     "output_type": "stream",
     "text": [
      "Took 0.14090657234191895 seconds\n",
      "Estimated pi = 3.1415515336834012\n"
     ]
    },
    {
     "name": "stderr",
     "output_type": "stream",
     "text": [
      "/home/aschwart/anaconda3/envs/gpu2/lib/python3.10/site-packages/numba/cuda/cudadrv/devicearray.py:885: NumbaPerformanceWarning: Host array used in CUDA kernel will incur copy overhead to/from device.\n",
      "  warn(NumbaPerformanceWarning(msg))\n"
     ]
    }
   ],
   "source": [
    "@cuda.jit\n",
    "def calc_pi_gpu(rng, iterations, totals):\n",
    "    id = cuda.grid(1)\n",
    "    inside = 0\n",
    "    for i in range(iterations):\n",
    "        x = xoroshiro128p_uniform_float32(rng, id)\n",
    "        y = xoroshiro128p_uniform_float32(rng, id)\n",
    "        r = math.sqrt(x ** 2 + y ** 2)\n",
    "        inside += r < 1\n",
    "\n",
    "    totals[id] = 4 * inside / iterations\n",
    "\n",
    "# 1000 iters is about 8 million darts\n",
    "threads_per_block = 64\n",
    "blocks = 128\n",
    "iterations = num_darts // (blocks * threads_per_block)\n",
    "\n",
    "totals = np.zeros(blocks * threads_per_block)\n",
    "\n",
    "seed = np.random.random(1)[0]\n",
    "rngs = create_xoroshiro128p_states(blocks * threads_per_block, seed=seed)\n",
    "\n",
    "start = time.time()\n",
    "calc_pi_gpu[blocks, threads_per_block](rngs, iterations, totals)\n",
    "elapsed = time.time() - start\n",
    "\n",
    "print(\"Took\", elapsed, \"seconds\")\n",
    "print(\"Estimated pi =\", totals.mean())"
   ]
  },
  {
   "cell_type": "code",
   "execution_count": null,
   "metadata": {},
   "outputs": [],
   "source": []
  }
 ],
 "metadata": {
  "kernelspec": {
   "display_name": "Python 3 (ipykernel)",
   "language": "python",
   "name": "python3"
  },
  "language_info": {
   "codemirror_mode": {
    "name": "ipython",
    "version": 3
   },
   "file_extension": ".py",
   "mimetype": "text/x-python",
   "name": "python",
   "nbconvert_exporter": "python",
   "pygments_lexer": "ipython3",
   "version": "3.10.10"
  }
 },
 "nbformat": 4,
 "nbformat_minor": 1
}
